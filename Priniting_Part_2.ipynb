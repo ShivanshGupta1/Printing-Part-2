{
  "nbformat": 4,
  "nbformat_minor": 0,
  "metadata": {
    "colab": {
      "name": "Priniting Part 2.ipynb",
      "provenance": [],
      "authorship_tag": "ABX9TyNJn+Ul44KeZyIS2H2d4Dqp",
      "include_colab_link": true
    },
    "kernelspec": {
      "name": "python3",
      "display_name": "Python 3"
    }
  },
  "cells": [
    {
      "cell_type": "markdown",
      "metadata": {
        "id": "view-in-github",
        "colab_type": "text"
      },
      "source": [
        "<a href=\"https://colab.research.google.com/github/ShivanshGupta1/Printing-Part-2/blob/main/Priniting_Part_2.ipynb\" target=\"_parent\"><img src=\"https://colab.research.google.com/assets/colab-badge.svg\" alt=\"Open In Colab\"/></a>"
      ]
    },
    {
      "cell_type": "code",
      "metadata": {
        "id": "610EPsLOsQyM"
      },
      "source": [
        "print(\"Hello\", \"World\", sep='-') #Using the separator operator"
      ],
      "execution_count": null,
      "outputs": []
    },
    {
      "cell_type": "code",
      "metadata": {
        "id": "pDEQHigIscD3"
      },
      "source": [
        "print(\"Shivansh\", \"Adress:HouseNo.483,Sector-7, Gurguram\", \"+91 9755572801\", sep=':')"
      ],
      "execution_count": null,
      "outputs": []
    },
    {
      "cell_type": "code",
      "metadata": {
        "id": "mTG4-B_Asd6v"
      },
      "source": [
        "print(\"Hello\", \"World\", sep='\\t' )"
      ],
      "execution_count": null,
      "outputs": []
    },
    {
      "cell_type": "code",
      "metadata": {
        "id": "4dHgMu_ysfNW"
      },
      "source": [
        "print('Shivansh''\\n'*100)"
      ],
      "execution_count": null,
      "outputs": []
    },
    {
      "cell_type": "code",
      "metadata": {
        "id": "KAQODPa4sgsG"
      },
      "source": [
        "print('********''\\n'*5)"
      ],
      "execution_count": null,
      "outputs": []
    },
    {
      "cell_type": "code",
      "metadata": {
        "id": "tpJ7Gfxnsihn"
      },
      "source": [
        "print('****\\n','**\\n''*\\n''****')"
      ],
      "execution_count": null,
      "outputs": []
    }
  ]
}